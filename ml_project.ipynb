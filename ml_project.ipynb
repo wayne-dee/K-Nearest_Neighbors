{
 "cells": [
  {
   "cell_type": "code",
   "execution_count": 2,
   "metadata": {},
   "outputs": [
    {
     "name": "stdout",
     "output_type": "stream",
     "text": [
      "[[25  2]\n",
      " [ 1 12]]\n"
     ]
    }
   ],
   "source": [
    "import numpy as np\n",
    "import pandas as pd\n",
    "import matplotlib.pyplot as pt\n",
    "\n",
    "#import the files by uses pandas \n",
    "dataset = pd.read_csv(\"7.1 Social_Network_Ads.csv\")\n",
    "\n",
    "#taking specific data from data set\n",
    "#ie from all rows:,column[2,3].values\n",
    "x = dataset.iloc[:,[2,3]].values\n",
    "\n",
    "#also for purchase y is column 4\n",
    "y = dataset.iloc[:,4].values\n",
    "\n",
    "#to divide our dataset for training and testing we\n",
    "#use sklearn\n",
    "from sklearn.model_selection import train_test_split\n",
    "\n",
    "#divide into four data sets, can use test_size/traine_size\n",
    "x_train,x_test,y_train,y_test = train_test_split(x,y,test_size = 0.1)\n",
    "\n",
    "#normalization/convert to one unit\n",
    "from sklearn.preprocessing import StandardScaler\n",
    "\n",
    "#make StandardScaler by creating an object\n",
    "sc = StandardScaler()\n",
    "\n",
    "#convert x_train to standard scale\n",
    "x_train = sc.fit_transform(x_train)\n",
    "\n",
    "#convert x_test to standard scale we only use .transform\n",
    "x_test = sc.transform(x_test)\n",
    "\n",
    "#now creating a model by KNN we need to import knn\n",
    "from sklearn.neighbors import KNeighborsClassifier\n",
    "\n",
    "#specifiy the number of k same as n_neighbors and the metric ie manhattan\n",
    "#classifier used to build models\n",
    "#for manhattan p=1 so (n_neighbors = 3, metric = 'manhattan',p=1)\n",
    "classifier = KNeighborsClassifier(n_neighbors = 5, metric = 'minkowski')\n",
    "\n",
    "#create container to fit in the there\n",
    "classifier.fit(x_train,y_train)\n",
    "\n",
    "#to predict y\n",
    "y_pred = classifier.predict(x_test)\n",
    "\n",
    "#takes two argments tocompare\n",
    "from sklearn.metrics import confusion_matrix\n",
    "cn = confusion_matrix(y_test,y_pred)\n",
    "\n",
    "\n",
    "print(cn)"
   ]
  },
  {
   "cell_type": "code",
   "execution_count": null,
   "metadata": {},
   "outputs": [],
   "source": [
    "print(cn)"
   ]
  },
  {
   "cell_type": "code",
   "execution_count": null,
   "metadata": {},
   "outputs": [],
   "source": []
  }
 ],
 "metadata": {
  "kernelspec": {
   "display_name": "Python 3",
   "language": "python",
   "name": "python3"
  },
  "language_info": {
   "codemirror_mode": {
    "name": "ipython",
    "version": 3
   },
   "file_extension": ".py",
   "mimetype": "text/x-python",
   "name": "python",
   "nbconvert_exporter": "python",
   "pygments_lexer": "ipython3",
   "version": "3.7.4"
  }
 },
 "nbformat": 4,
 "nbformat_minor": 2
}
